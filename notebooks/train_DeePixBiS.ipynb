{
 "cells": [
  {
   "cell_type": "code",
   "execution_count": 1,
   "metadata": {},
   "outputs": [],
   "source": [
    "import os\n",
    "os.chdir('../')"
   ]
  },
  {
   "cell_type": "code",
   "execution_count": 2,
   "metadata": {},
   "outputs": [],
   "source": [
    "import pandas as pd\n",
    "import torch\n",
    "import torch.nn as nn\n",
    "from torchvision.transforms import Compose, ToTensor, RandomHorizontalFlip, Normalize, Resize, RandomRotation\n",
    "import numpy as np\n",
    "from torch.utils.data import DataLoader\n",
    "from modules.deep_pixel_wise.Dataset_v2 import PixWiseDataset\n",
    "from modules.deep_pixel_wise.Model import DeePixBiS\n",
    "from modules.deep_pixel_wise.Loss import PixWiseBCELoss\n",
    "from modules.deep_pixel_wise.Metrics import predict, test_accuracy, test_loss\n",
    "from modules.deep_pixel_wise.Trainer import Trainer"
   ]
  },
  {
   "cell_type": "code",
   "execution_count": 3,
   "metadata": {},
   "outputs": [],
   "source": [
    "train_data = pd.read_csv('.\\data\\\\path_files\\\\train_data_celeb_nuaa.csv').reset_index(drop=True)\n",
    "test_data = pd.read_csv('.\\data\\\\path_files\\\\test_data_celeb_nuaa.csv').reset_index(drop=True)\n",
    "val_data = pd.read_csv('.\\data\\\\path_files\\\\val_data_celeb_nuaa.csv').reset_index(drop=True)"
   ]
  },
  {
   "cell_type": "code",
   "execution_count": 4,
   "metadata": {},
   "outputs": [
    {
     "data": {
      "text/html": [
       "<div>\n",
       "<style scoped>\n",
       "    .dataframe tbody tr th:only-of-type {\n",
       "        vertical-align: middle;\n",
       "    }\n",
       "\n",
       "    .dataframe tbody tr th {\n",
       "        vertical-align: top;\n",
       "    }\n",
       "\n",
       "    .dataframe thead th {\n",
       "        text-align: right;\n",
       "    }\n",
       "</style>\n",
       "<table border=\"1\" class=\"dataframe\">\n",
       "  <thead>\n",
       "    <tr style=\"text-align: right;\">\n",
       "      <th></th>\n",
       "      <th>name</th>\n",
       "      <th>label</th>\n",
       "    </tr>\n",
       "  </thead>\n",
       "  <tbody>\n",
       "    <tr>\n",
       "      <th>0</th>\n",
       "      <td>C:\\KhoiNXM\\Workspace\\Learning\\Master Thesis\\De...</td>\n",
       "      <td>1</td>\n",
       "    </tr>\n",
       "    <tr>\n",
       "      <th>1</th>\n",
       "      <td>C:\\KhoiNXM\\Workspace\\Learning\\Master Thesis\\De...</td>\n",
       "      <td>0</td>\n",
       "    </tr>\n",
       "    <tr>\n",
       "      <th>2</th>\n",
       "      <td>C:\\KhoiNXM\\Workspace\\Learning\\Master Thesis\\De...</td>\n",
       "      <td>0</td>\n",
       "    </tr>\n",
       "    <tr>\n",
       "      <th>3</th>\n",
       "      <td>C:\\KhoiNXM\\Workspace\\Learning\\Master Thesis\\De...</td>\n",
       "      <td>0</td>\n",
       "    </tr>\n",
       "    <tr>\n",
       "      <th>4</th>\n",
       "      <td>C:\\KhoiNXM\\Workspace\\Learning\\Master Thesis\\De...</td>\n",
       "      <td>0</td>\n",
       "    </tr>\n",
       "  </tbody>\n",
       "</table>\n",
       "</div>"
      ],
      "text/plain": [
       "                                                name  label\n",
       "0  C:\\KhoiNXM\\Workspace\\Learning\\Master Thesis\\De...      1\n",
       "1  C:\\KhoiNXM\\Workspace\\Learning\\Master Thesis\\De...      0\n",
       "2  C:\\KhoiNXM\\Workspace\\Learning\\Master Thesis\\De...      0\n",
       "3  C:\\KhoiNXM\\Workspace\\Learning\\Master Thesis\\De...      0\n",
       "4  C:\\KhoiNXM\\Workspace\\Learning\\Master Thesis\\De...      0"
      ]
     },
     "execution_count": 4,
     "metadata": {},
     "output_type": "execute_result"
    }
   ],
   "source": [
    "train_data_shuffled = train_data.sample(frac=1).reset_index(drop=True)\n",
    "train_data_shuffled.head()"
   ]
  },
  {
   "cell_type": "code",
   "execution_count": 5,
   "metadata": {},
   "outputs": [
    {
     "data": {
      "text/plain": [
       "(7022, 2)"
      ]
     },
     "execution_count": 5,
     "metadata": {},
     "output_type": "execute_result"
    }
   ],
   "source": [
    "train_data_shuffled.shape"
   ]
  },
  {
   "cell_type": "code",
   "execution_count": 6,
   "metadata": {},
   "outputs": [
    {
     "data": {
      "text/plain": [
       "(878, 2)"
      ]
     },
     "execution_count": 6,
     "metadata": {},
     "output_type": "execute_result"
    }
   ],
   "source": [
    "val_data.shape"
   ]
  },
  {
   "cell_type": "code",
   "execution_count": 7,
   "metadata": {},
   "outputs": [
    {
     "data": {
      "text/plain": [
       "(878, 2)"
      ]
     },
     "execution_count": 7,
     "metadata": {},
     "output_type": "execute_result"
    }
   ],
   "source": [
    "test_data.shape"
   ]
  },
  {
   "cell_type": "code",
   "execution_count": 9,
   "metadata": {},
   "outputs": [
    {
     "data": {
      "text/plain": [
       "3511"
      ]
     },
     "execution_count": 9,
     "metadata": {},
     "output_type": "execute_result"
    }
   ],
   "source": [
    "int(len(train_data_shuffled)*0.5)"
   ]
  },
  {
   "cell_type": "code",
   "execution_count": 8,
   "metadata": {},
   "outputs": [
    {
     "data": {
      "text/html": [
       "<div>\n",
       "<style scoped>\n",
       "    .dataframe tbody tr th:only-of-type {\n",
       "        vertical-align: middle;\n",
       "    }\n",
       "\n",
       "    .dataframe tbody tr th {\n",
       "        vertical-align: top;\n",
       "    }\n",
       "\n",
       "    .dataframe thead th {\n",
       "        text-align: right;\n",
       "    }\n",
       "</style>\n",
       "<table border=\"1\" class=\"dataframe\">\n",
       "  <thead>\n",
       "    <tr style=\"text-align: right;\">\n",
       "      <th></th>\n",
       "      <th>name</th>\n",
       "      <th>label</th>\n",
       "    </tr>\n",
       "  </thead>\n",
       "  <tbody>\n",
       "    <tr>\n",
       "      <th>0</th>\n",
       "      <td>C:\\KhoiNXM\\Workspace\\Learning\\Master Thesis\\De...</td>\n",
       "      <td>0</td>\n",
       "    </tr>\n",
       "    <tr>\n",
       "      <th>1</th>\n",
       "      <td>C:\\KhoiNXM\\Workspace\\Learning\\Master Thesis\\De...</td>\n",
       "      <td>0</td>\n",
       "    </tr>\n",
       "    <tr>\n",
       "      <th>2</th>\n",
       "      <td>C:\\KhoiNXM\\Workspace\\Learning\\Master Thesis\\De...</td>\n",
       "      <td>1</td>\n",
       "    </tr>\n",
       "    <tr>\n",
       "      <th>3</th>\n",
       "      <td>C:\\KhoiNXM\\Workspace\\Learning\\Master Thesis\\De...</td>\n",
       "      <td>0</td>\n",
       "    </tr>\n",
       "    <tr>\n",
       "      <th>4</th>\n",
       "      <td>C:\\KhoiNXM\\Workspace\\Learning\\Master Thesis\\De...</td>\n",
       "      <td>0</td>\n",
       "    </tr>\n",
       "  </tbody>\n",
       "</table>\n",
       "</div>"
      ],
      "text/plain": [
       "                                                name  label\n",
       "0  C:\\KhoiNXM\\Workspace\\Learning\\Master Thesis\\De...      0\n",
       "1  C:\\KhoiNXM\\Workspace\\Learning\\Master Thesis\\De...      0\n",
       "2  C:\\KhoiNXM\\Workspace\\Learning\\Master Thesis\\De...      1\n",
       "3  C:\\KhoiNXM\\Workspace\\Learning\\Master Thesis\\De...      0\n",
       "4  C:\\KhoiNXM\\Workspace\\Learning\\Master Thesis\\De...      0"
      ]
     },
     "execution_count": 8,
     "metadata": {},
     "output_type": "execute_result"
    }
   ],
   "source": [
    "sub_train_data = train_data_shuffled[:int(len(train_data_shuffled)*0.5)].reset_index(drop=True)\n",
    "sub_train_data.head()"
   ]
  },
  {
   "cell_type": "code",
   "execution_count": 15,
   "metadata": {},
   "outputs": [
    {
     "name": "stdout",
     "output_type": "stream",
     "text": [
      "Using device: cuda\n",
      "\n",
      "NVIDIA T1200 Laptop GPU\n",
      "Memory Usage:\n",
      "Allocated:  0.0 GB\n",
      "Cached:  0.0 GB\n",
      "Max memory reserved:  0.0 GB\n"
     ]
    }
   ],
   "source": [
    "# Setting device on GPU if available, else CPU\n",
    "import torch\n",
    "\n",
    "torch.cuda.empty_cache()\n",
    "torch.cuda.reset_peak_memory_stats()\n",
    "\n",
    "device = torch.device('cuda' if torch.cuda.is_available() else 'cpu')\n",
    "print('Using device:', device)\n",
    "print()\n",
    "\n",
    "# Additional Info when using cuda\n",
    "if device.type == 'cuda':\n",
    "    print(torch.cuda.get_device_name(0))\n",
    "    print('Memory Usage:')\n",
    "    print('Allocated: ', round(torch.cuda.memory_allocated(0)/1024**3,1), 'GB')\n",
    "    print('Cached: ', round(torch.cuda.memory_reserved(0)/1024**3,1), 'GB')\n",
    "    print('Max memory reserved: ', round(torch.cuda.max_memory_reserved(0)/1024**3,1), 'GB')"
   ]
  },
  {
   "cell_type": "code",
   "execution_count": null,
   "metadata": {},
   "outputs": [],
   "source": [
    "model = DeePixBiS()\n",
    "# model.load_state_dict(torch.load('/content/drive/MyDrive/FPT MSE/Capstone Project/Anti_Spoof_DPW/DeePixBiS.pth'))\n",
    "loss_fn = PixWiseBCELoss()\n",
    "opt = torch.optim.Adam(model.parameters(), lr=0.0001)\n",
    "train_tfms = Compose([Resize([224, 224]),\n",
    "                      RandomHorizontalFlip(),\n",
    "                      RandomRotation(10),\n",
    "                      ToTensor(),\n",
    "                    #   Normalize([0.5, 0.5, 0.5], [0.5, 0.5, 0.5])])\n",
    "                      Normalize((0.485, 0.456, 0.406), (0.229, 0.224, 0.225))])\n",
    "\n",
    "test_tfms = Compose([Resize([224, 224]),\n",
    "                     ToTensor(),\n",
    "                    #  Normalize([0.5, 0.5, 0.5], [0.5, 0.5, 0.5])])\n",
    "                     Normalize((0.485, 0.456, 0.406), (0.229, 0.224, 0.225))])\n",
    "\n",
    "train_dataset = PixWiseDataset(train_data_shuffled, transform=train_tfms)\n",
    "train_ds = train_dataset.dataset()\n",
    "\n",
    "val_dataset = PixWiseDataset(val_data, transform=test_tfms)\n",
    "val_ds = val_dataset.dataset()\n",
    "\n",
    "batch_size = 16\n",
    "train_dl = DataLoader(train_ds, batch_size, shuffle=True, num_workers=0, pin_memory=True)\n",
    "val_dl = DataLoader(val_ds, batch_size, shuffle=True, num_workers=0, pin_memory=True)\n",
    "\n",
    "trainer = Trainer(train_dl, val_dl, model, 5, opt, loss_fn, device)\n",
    "\n",
    "print('Training Beginning\\n')\n",
    "trainer.fit()\n",
    "\n",
    "print('\\nTraining Complete')\n",
    "torch.save(model.state_dict(), './models/DeePixBiS/DeePixBiS_celeb_nuaa_130223.pth')"
   ]
  },
  {
   "cell_type": "code",
   "execution_count": null,
   "metadata": {},
   "outputs": [],
   "source": [
    "del model, train_dataset, train_ds, train_dl, val_dataset, val_ds, val_dl, trainer\n",
    "sub_train_data_part2 = train_data_shuffled[int(len(train_data_shuffled)*0.5:)].reset_index(drop=True)"
   ]
  },
  {
   "cell_type": "code",
   "execution_count": null,
   "metadata": {},
   "outputs": [],
   "source": [
    "model = DeePixBiS()\n",
    "model.load_state_dict(torch.load('/content/drive/MyDrive/FPT MSE/Capstone Project/Anti_Spoof_DPW/DeePixBiS.pth'))\n",
    "loss_fn = PixWiseBCELoss()\n",
    "opt = torch.optim.Adam(model.parameters(), lr=0.0001)\n",
    "train_tfms = Compose([Resize([224, 224]),\n",
    "                      RandomHorizontalFlip(),\n",
    "                      RandomRotation(10),\n",
    "                      ToTensor(),\n",
    "                    #   Normalize([0.5, 0.5, 0.5], [0.5, 0.5, 0.5])])\n",
    "                      Normalize((0.485, 0.456, 0.406), (0.229, 0.224, 0.225))])\n",
    "\n",
    "test_tfms = Compose([Resize([224, 224]),\n",
    "                     ToTensor(),\n",
    "                    #  Normalize([0.5, 0.5, 0.5], [0.5, 0.5, 0.5])])\n",
    "                     Normalize((0.485, 0.456, 0.406), (0.229, 0.224, 0.225))])\n",
    "\n",
    "train_dataset = PixWiseDataset(train_data_shuffled, transform=train_tfms)\n",
    "train_ds = train_dataset.dataset()\n",
    "\n",
    "val_dataset = PixWiseDataset(val_data, transform=test_tfms)\n",
    "val_ds = val_dataset.dataset()\n",
    "\n",
    "batch_size = 16\n",
    "train_dl = DataLoader(train_ds, batch_size, shuffle=True, num_workers=0, pin_memory=True)\n",
    "val_dl = DataLoader(val_ds, batch_size, shuffle=True, num_workers=0, pin_memory=True)\n",
    "\n",
    "trainer = Trainer(train_dl, val_dl, model, 5, opt, loss_fn, device)\n",
    "\n",
    "print('Training Beginning\\n')\n",
    "trainer.fit()\n",
    "\n",
    "print('\\nTraining Complete')\n",
    "torch.save(model.state_dict(), './models/DeePixBiS/DeePixBiS_celeb_nuaa_130223.pth')"
   ]
  },
  {
   "cell_type": "code",
   "execution_count": null,
   "metadata": {},
   "outputs": [],
   "source": []
  }
 ],
 "metadata": {
  "kernelspec": {
   "display_name": "face_recognition_system",
   "language": "python",
   "name": "python3"
  },
  "language_info": {
   "codemirror_mode": {
    "name": "ipython",
    "version": 3
   },
   "file_extension": ".py",
   "mimetype": "text/x-python",
   "name": "python",
   "nbconvert_exporter": "python",
   "pygments_lexer": "ipython3",
   "version": "3.9.12"
  },
  "orig_nbformat": 4,
  "vscode": {
   "interpreter": {
    "hash": "e2b9d8e355d89e6612b110ab03e3987dce92c37600e380ef8505b30519cf4243"
   }
  }
 },
 "nbformat": 4,
 "nbformat_minor": 2
}
