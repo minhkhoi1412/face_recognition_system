{
 "cells": [
  {
   "cell_type": "code",
   "execution_count": 1,
   "metadata": {},
   "outputs": [],
   "source": [
    "import os\n",
    "os.chdir('../')"
   ]
  },
  {
   "cell_type": "code",
   "execution_count": 2,
   "metadata": {},
   "outputs": [],
   "source": [
    "import pandas as pd\n",
    "import torch\n",
    "import torch.nn as nn\n",
    "from torchvision.transforms import Compose, ToTensor, RandomHorizontalFlip, Normalize, Resize, RandomRotation\n",
    "import numpy as np\n",
    "from torch.utils.data import DataLoader\n",
    "from modules.deep_pixel_wise.Dataset_v2 import PixWiseDataset\n",
    "from modules.deep_pixel_wise.Model import DeePixBiS\n",
    "from modules.deep_pixel_wise.Loss import PixWiseBCELoss\n",
    "from modules.deep_pixel_wise.Metrics import predict, test_accuracy, test_loss\n",
    "from modules.deep_pixel_wise.Trainer import Trainer"
   ]
  },
  {
   "cell_type": "code",
   "execution_count": 3,
   "metadata": {},
   "outputs": [],
   "source": [
    "train_data = pd.read_csv('.\\data\\\\path_files\\\\train_data_celeb_nuaa.csv').reset_index(drop=True)\n",
    "test_data = pd.read_csv('.\\data\\\\path_files\\\\test_data_celeb_nuaa.csv').reset_index(drop=True)\n",
    "val_data = pd.read_csv('.\\data\\\\path_files\\\\val_data_celeb_nuaa.csv').reset_index(drop=True)"
   ]
  },
  {
   "cell_type": "code",
   "execution_count": 4,
   "metadata": {},
   "outputs": [
    {
     "data": {
      "text/html": [
       "<div>\n",
       "<style scoped>\n",
       "    .dataframe tbody tr th:only-of-type {\n",
       "        vertical-align: middle;\n",
       "    }\n",
       "\n",
       "    .dataframe tbody tr th {\n",
       "        vertical-align: top;\n",
       "    }\n",
       "\n",
       "    .dataframe thead th {\n",
       "        text-align: right;\n",
       "    }\n",
       "</style>\n",
       "<table border=\"1\" class=\"dataframe\">\n",
       "  <thead>\n",
       "    <tr style=\"text-align: right;\">\n",
       "      <th></th>\n",
       "      <th>name</th>\n",
       "      <th>label</th>\n",
       "    </tr>\n",
       "  </thead>\n",
       "  <tbody>\n",
       "    <tr>\n",
       "      <th>0</th>\n",
       "      <td>C:\\KhoiNXM\\Workspace\\Learning\\Master Thesis\\De...</td>\n",
       "      <td>0</td>\n",
       "    </tr>\n",
       "    <tr>\n",
       "      <th>1</th>\n",
       "      <td>C:\\KhoiNXM\\Workspace\\Learning\\Master Thesis\\De...</td>\n",
       "      <td>0</td>\n",
       "    </tr>\n",
       "    <tr>\n",
       "      <th>2</th>\n",
       "      <td>C:\\KhoiNXM\\Workspace\\Learning\\Master Thesis\\De...</td>\n",
       "      <td>1</td>\n",
       "    </tr>\n",
       "    <tr>\n",
       "      <th>3</th>\n",
       "      <td>C:\\KhoiNXM\\Workspace\\Learning\\Master Thesis\\De...</td>\n",
       "      <td>0</td>\n",
       "    </tr>\n",
       "    <tr>\n",
       "      <th>4</th>\n",
       "      <td>C:\\KhoiNXM\\Workspace\\Learning\\Master Thesis\\De...</td>\n",
       "      <td>0</td>\n",
       "    </tr>\n",
       "  </tbody>\n",
       "</table>\n",
       "</div>"
      ],
      "text/plain": [
       "                                                name  label\n",
       "0  C:\\KhoiNXM\\Workspace\\Learning\\Master Thesis\\De...      0\n",
       "1  C:\\KhoiNXM\\Workspace\\Learning\\Master Thesis\\De...      0\n",
       "2  C:\\KhoiNXM\\Workspace\\Learning\\Master Thesis\\De...      1\n",
       "3  C:\\KhoiNXM\\Workspace\\Learning\\Master Thesis\\De...      0\n",
       "4  C:\\KhoiNXM\\Workspace\\Learning\\Master Thesis\\De...      0"
      ]
     },
     "execution_count": 4,
     "metadata": {},
     "output_type": "execute_result"
    }
   ],
   "source": [
    "train_data_shuffled = train_data.sample(frac=1).reset_index(drop=True)\n",
    "train_data_shuffled.head()"
   ]
  },
  {
   "cell_type": "code",
   "execution_count": 5,
   "metadata": {},
   "outputs": [
    {
     "data": {
      "text/plain": [
       "(4499, 2)"
      ]
     },
     "execution_count": 5,
     "metadata": {},
     "output_type": "execute_result"
    }
   ],
   "source": [
    "train_data_shuffled.shape"
   ]
  },
  {
   "cell_type": "code",
   "execution_count": 6,
   "metadata": {},
   "outputs": [
    {
     "data": {
      "text/plain": [
       "(563, 2)"
      ]
     },
     "execution_count": 6,
     "metadata": {},
     "output_type": "execute_result"
    }
   ],
   "source": [
    "val_data.shape"
   ]
  },
  {
   "cell_type": "code",
   "execution_count": 7,
   "metadata": {},
   "outputs": [
    {
     "data": {
      "text/plain": [
       "2249"
      ]
     },
     "execution_count": 7,
     "metadata": {},
     "output_type": "execute_result"
    }
   ],
   "source": [
    "int(len(train_data_shuffled)*0.5)"
   ]
  },
  {
   "cell_type": "code",
   "execution_count": 8,
   "metadata": {},
   "outputs": [
    {
     "data": {
      "text/html": [
       "<div>\n",
       "<style scoped>\n",
       "    .dataframe tbody tr th:only-of-type {\n",
       "        vertical-align: middle;\n",
       "    }\n",
       "\n",
       "    .dataframe tbody tr th {\n",
       "        vertical-align: top;\n",
       "    }\n",
       "\n",
       "    .dataframe thead th {\n",
       "        text-align: right;\n",
       "    }\n",
       "</style>\n",
       "<table border=\"1\" class=\"dataframe\">\n",
       "  <thead>\n",
       "    <tr style=\"text-align: right;\">\n",
       "      <th></th>\n",
       "      <th>name</th>\n",
       "      <th>label</th>\n",
       "    </tr>\n",
       "  </thead>\n",
       "  <tbody>\n",
       "    <tr>\n",
       "      <th>0</th>\n",
       "      <td>C:\\KhoiNXM\\Workspace\\Learning\\Master Thesis\\De...</td>\n",
       "      <td>0</td>\n",
       "    </tr>\n",
       "    <tr>\n",
       "      <th>1</th>\n",
       "      <td>C:\\KhoiNXM\\Workspace\\Learning\\Master Thesis\\De...</td>\n",
       "      <td>0</td>\n",
       "    </tr>\n",
       "    <tr>\n",
       "      <th>2</th>\n",
       "      <td>C:\\KhoiNXM\\Workspace\\Learning\\Master Thesis\\De...</td>\n",
       "      <td>1</td>\n",
       "    </tr>\n",
       "    <tr>\n",
       "      <th>3</th>\n",
       "      <td>C:\\KhoiNXM\\Workspace\\Learning\\Master Thesis\\De...</td>\n",
       "      <td>0</td>\n",
       "    </tr>\n",
       "    <tr>\n",
       "      <th>4</th>\n",
       "      <td>C:\\KhoiNXM\\Workspace\\Learning\\Master Thesis\\De...</td>\n",
       "      <td>0</td>\n",
       "    </tr>\n",
       "  </tbody>\n",
       "</table>\n",
       "</div>"
      ],
      "text/plain": [
       "                                                name  label\n",
       "0  C:\\KhoiNXM\\Workspace\\Learning\\Master Thesis\\De...      0\n",
       "1  C:\\KhoiNXM\\Workspace\\Learning\\Master Thesis\\De...      0\n",
       "2  C:\\KhoiNXM\\Workspace\\Learning\\Master Thesis\\De...      1\n",
       "3  C:\\KhoiNXM\\Workspace\\Learning\\Master Thesis\\De...      0\n",
       "4  C:\\KhoiNXM\\Workspace\\Learning\\Master Thesis\\De...      0"
      ]
     },
     "execution_count": 8,
     "metadata": {},
     "output_type": "execute_result"
    }
   ],
   "source": [
    "sub_train_data = train_data_shuffled[:int(len(train_data_shuffled)*0.5)].reset_index(drop=True)\n",
    "sub_train_data.head()"
   ]
  },
  {
   "cell_type": "code",
   "execution_count": 9,
   "metadata": {},
   "outputs": [
    {
     "name": "stderr",
     "output_type": "stream",
     "text": [
      "c:\\KhoiNXM\\Workspace\\python_venv\\face_recognition_system\\lib\\site-packages\\torchvision\\models\\_utils.py:223: UserWarning: Arguments other than a weight enum or `None` for 'weights' are deprecated since 0.13 and may be removed in the future. The current behavior is equivalent to passing `weights=DenseNet161_Weights.IMAGENET1K_V1`. You can also use `weights=DenseNet161_Weights.DEFAULT` to get the most up-to-date weights.\n",
      "  warnings.warn(msg)\n"
     ]
    },
    {
     "name": "stdout",
     "output_type": "stream",
     "text": [
      "cpu\n",
      "Training Beginning\n",
      "\n",
      "\n",
      "Epoch (1/5)\n",
      "----------------------------------\n"
     ]
    },
    {
     "name": "stderr",
     "output_type": "stream",
     "text": [
      "c:\\KhoiNXM\\Workspace\\python_venv\\face_recognition_system\\lib\\site-packages\\torch\\nn\\functional.py:1967: UserWarning: nn.functional.sigmoid is deprecated. Use torch.sigmoid instead.\n",
      "  warnings.warn(\"nn.functional.sigmoid is deprecated. Use torch.sigmoid instead.\")\n"
     ]
    },
    {
     "name": "stdout",
     "output_type": "stream",
     "text": [
      "Loss : 0.8425396680831909\n",
      "Loss : 0.7229524850845337\n",
      "Loss : 0.689094603061676\n",
      "Loss : 0.6331741809844971\n",
      "Loss : 0.6157518625259399\n",
      "Loss : 0.5387224555015564\n",
      "Loss : 0.516269862651825\n",
      "Loss : 0.5328725576400757\n",
      "Test Accuracy : 95.38188277087033  Test Loss : 0.48996435436937547\n",
      "\n",
      "Epoch (2/5)\n",
      "----------------------------------\n",
      "Loss : 0.5015062689781189\n",
      "Loss : 0.5249804258346558\n",
      "Loss : 0.4843815863132477\n",
      "Loss : 0.3981913924217224\n",
      "Loss : 0.5997209548950195\n",
      "Loss : 0.37738245725631714\n",
      "Loss : 0.3926835060119629\n",
      "Loss : 0.3799639344215393\n",
      "Test Accuracy : 95.20426287744228  Test Loss : 0.3695223099655575\n",
      "\n",
      "Epoch (3/5)\n",
      "----------------------------------\n",
      "Loss : 0.31290560960769653\n",
      "Loss : 0.34496867656707764\n",
      "Loss : 0.35924845933914185\n",
      "Loss : 0.3019152283668518\n",
      "Loss : 0.3499540090560913\n",
      "Loss : 0.280956506729126\n",
      "Loss : 0.3299211263656616\n",
      "Loss : 0.4281071722507477\n",
      "Test Accuracy : 98.04618117229128  Test Loss : 0.3337596274084515\n",
      "\n",
      "Epoch (4/5)\n",
      "----------------------------------\n",
      "Loss : 0.37332624197006226\n",
      "Loss : 0.3156535029411316\n",
      "Loss : 0.27846530079841614\n",
      "Loss : 0.2749141752719879\n",
      "Loss : 0.23459821939468384\n",
      "Loss : 0.3340132236480713\n",
      "Loss : 0.242092102766037\n",
      "Loss : 0.24831965565681458\n",
      "Test Accuracy : 98.57904085257549  Test Loss : 0.2696632709768083\n",
      "\n",
      "Epoch (5/5)\n",
      "----------------------------------\n",
      "Loss : 0.245070680975914\n",
      "Loss : 0.23366934061050415\n",
      "Loss : 0.232009619474411\n",
      "Loss : 0.23968496918678284\n",
      "Loss : 0.21518245339393616\n",
      "Loss : 0.22622251510620117\n",
      "Loss : 0.23624494671821594\n",
      "Loss : 0.22568127512931824\n",
      "Test Accuracy : 98.93428063943162  Test Loss : 0.25753236396445167\n",
      "\n",
      "Training Complete\n"
     ]
    }
   ],
   "source": [
    "model = DeePixBiS()\n",
    "# model.load_state_dict(torch.load('/content/drive/MyDrive/FPT MSE/Capstone Project/Anti_Spoof_DPW/DeePixBiS.pth'))\n",
    "\n",
    "# device = torch.device(\"cuda\" if torch.cuda.is_available() else \"cpu\")\n",
    "device = 'cpu'\n",
    "print(device)\n",
    "\n",
    "loss_fn = PixWiseBCELoss()\n",
    "\n",
    "opt = torch.optim.Adam(model.parameters(), lr=0.0001)\n",
    "\n",
    "train_tfms = Compose([Resize([224, 224]),\n",
    "                      RandomHorizontalFlip(),\n",
    "                      RandomRotation(10),\n",
    "                      ToTensor(),\n",
    "                    #   Normalize([0.5, 0.5, 0.5], [0.5, 0.5, 0.5])])\n",
    "                      Normalize((0.485, 0.456, 0.406), (0.229, 0.224, 0.225))])\n",
    "\n",
    "test_tfms = Compose([Resize([224, 224]),\n",
    "                     ToTensor(),\n",
    "                    #  Normalize([0.5, 0.5, 0.5], [0.5, 0.5, 0.5])])\n",
    "                     Normalize((0.485, 0.456, 0.406), (0.229, 0.224, 0.225))])\n",
    "\n",
    "train_dataset = PixWiseDataset(sub_train_data, transform=train_tfms)\n",
    "train_ds = train_dataset.dataset()\n",
    "\n",
    "val_dataset = PixWiseDataset(val_data, transform=test_tfms)\n",
    "val_ds = val_dataset.dataset()\n",
    "\n",
    "batch_size = 32\n",
    "train_dl = DataLoader(train_ds, batch_size, shuffle=True, num_workers=0, pin_memory=True)\n",
    "val_dl = DataLoader(val_ds, batch_size, shuffle=True, num_workers=0, pin_memory=True)\n",
    "\n",
    "trainer = Trainer(train_dl, val_dl, model, 5, opt, loss_fn, device)\n",
    "\n",
    "print('Training Beginning\\n')\n",
    "trainer.fit()\n",
    "\n",
    "print('\\nTraining Complete')\n",
    "torch.save(model.state_dict(), './models/DeePixBiS/DeePixBiS_celeb_nuaa_100223.pth')"
   ]
  },
  {
   "cell_type": "code",
   "execution_count": 10,
   "metadata": {},
   "outputs": [
    {
     "ename": "SyntaxError",
     "evalue": "invalid syntax (1460649653.py, line 2)",
     "output_type": "error",
     "traceback": [
      "\u001b[1;36m  Cell \u001b[1;32mIn[10], line 2\u001b[1;36m\u001b[0m\n\u001b[1;33m    sub_train_data_part2 = train_data_shuffled[int(len(train_data_shuffled)*0.5:)].reset_index(drop=True)\u001b[0m\n\u001b[1;37m                                                                               ^\u001b[0m\n\u001b[1;31mSyntaxError\u001b[0m\u001b[1;31m:\u001b[0m invalid syntax\n"
     ]
    }
   ],
   "source": [
    "del model, train_dataset, train_ds, train_dl, val_dataset, val_ds, val_dl, trainer\n",
    "sub_train_data_part2 = train_data_shuffled[int(len(train_data_shuffled)*0.5:)].reset_index(drop=True)"
   ]
  },
  {
   "cell_type": "code",
   "execution_count": null,
   "metadata": {},
   "outputs": [],
   "source": [
    "model = DeePixBiS()\n",
    "model.load_state_dict(torch.load('./models/DeePixBiS/DeePixBiS_celeb_nuaa_100223.pth'))\n",
    "\n",
    "# device = torch.device(\"cuda\" if torch.cuda.is_available() else \"cpu\")\n",
    "device = 'cpu'\n",
    "print(device)\n",
    "\n",
    "loss_fn = PixWiseBCELoss()\n",
    "\n",
    "opt = torch.optim.Adam(model.parameters(), lr=0.0001)\n",
    "\n",
    "train_tfms = Compose([Resize([224, 224]),\n",
    "                      RandomHorizontalFlip(),\n",
    "                      RandomRotation(10),\n",
    "                      ToTensor(),\n",
    "                    #   Normalize([0.5, 0.5, 0.5], [0.5, 0.5, 0.5])])\n",
    "                      Normalize((0.485, 0.456, 0.406), (0.229, 0.224, 0.225))])\n",
    "\n",
    "test_tfms = Compose([Resize([224, 224]),\n",
    "                     ToTensor(),\n",
    "                    #  Normalize([0.5, 0.5, 0.5], [0.5, 0.5, 0.5])])\n",
    "                     Normalize((0.485, 0.456, 0.406), (0.229, 0.224, 0.225))])\n",
    "\n",
    "train_dataset = PixWiseDataset(sub_train_data_part2, transform=train_tfms)\n",
    "train_ds = train_dataset.dataset()\n",
    "\n",
    "val_dataset = PixWiseDataset(val_data, transform=test_tfms)\n",
    "val_ds = val_dataset.dataset()\n",
    "\n",
    "batch_size = 32\n",
    "train_dl = DataLoader(train_ds, batch_size, shuffle=True, num_workers=0, pin_memory=True)\n",
    "val_dl = DataLoader(val_ds, batch_size, shuffle=True, num_workers=0, pin_memory=True)\n",
    "\n",
    "trainer = Trainer(train_dl, val_dl, model, 5, opt, loss_fn, device)\n",
    "\n",
    "print('Training Beginning\\n')\n",
    "trainer.fit()\n",
    "\n",
    "print('\\nTraining Complete')\n",
    "torch.save(model.state_dict(), './models/DeePixBiS/DeePixBiS_celeb_nuaa_110223.pth')"
   ]
  },
  {
   "cell_type": "code",
   "execution_count": null,
   "metadata": {},
   "outputs": [],
   "source": []
  }
 ],
 "metadata": {
  "kernelspec": {
   "display_name": "face_recognition_system",
   "language": "python",
   "name": "python3"
  },
  "language_info": {
   "codemirror_mode": {
    "name": "ipython",
    "version": 3
   },
   "file_extension": ".py",
   "mimetype": "text/x-python",
   "name": "python",
   "nbconvert_exporter": "python",
   "pygments_lexer": "ipython3",
   "version": "3.9.12"
  },
  "orig_nbformat": 4,
  "vscode": {
   "interpreter": {
    "hash": "e2b9d8e355d89e6612b110ab03e3987dce92c37600e380ef8505b30519cf4243"
   }
  }
 },
 "nbformat": 4,
 "nbformat_minor": 2
}
