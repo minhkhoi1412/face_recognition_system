{
 "cells": [
  {
   "attachments": {},
   "cell_type": "markdown",
   "metadata": {},
   "source": [
    "# Extract faces CelebA_Spoof"
   ]
  },
  {
   "cell_type": "code",
   "execution_count": 1,
   "metadata": {},
   "outputs": [],
   "source": [
    "from glob import glob\n",
    "import cv2\n",
    "import os\n",
    "from tqdm import tqdm\n",
    "from pathlib import Path\n",
    "import shutil\n",
    "from sklearn.model_selection import train_test_split\n",
    "import pandas as pd"
   ]
  },
  {
   "cell_type": "code",
   "execution_count": 2,
   "metadata": {},
   "outputs": [
    {
     "data": {
      "text/plain": [
       "494405"
      ]
     },
     "execution_count": 2,
     "metadata": {},
     "output_type": "execute_result"
    }
   ],
   "source": [
    "train_images = glob('C:\\KhoiNXM\\Workspace\\Learning\\Master Thesis\\Dataset\\CelebA_Spoof\\Data\\\\train\\*\\*\\*.jpg')\n",
    "len(train_images)"
   ]
  },
  {
   "cell_type": "code",
   "execution_count": 3,
   "metadata": {},
   "outputs": [
    {
     "data": {
      "text/plain": [
       "67170"
      ]
     },
     "execution_count": 3,
     "metadata": {},
     "output_type": "execute_result"
    }
   ],
   "source": [
    "test_images = glob('C:\\KhoiNXM\\Workspace\\Learning\\Master Thesis\\Dataset\\CelebA_Spoof\\Data\\\\test\\*\\*\\*.png')\n",
    "len(test_images)"
   ]
  },
  {
   "cell_type": "code",
   "execution_count": 8,
   "metadata": {},
   "outputs": [
    {
     "data": {
      "text/plain": [
       "4944"
      ]
     },
     "execution_count": 8,
     "metadata": {},
     "output_type": "execute_result"
    }
   ],
   "source": [
    "int(len(train_images)*0.01)"
   ]
  },
  {
   "cell_type": "code",
   "execution_count": 9,
   "metadata": {},
   "outputs": [
    {
     "name": "stderr",
     "output_type": "stream",
     "text": [
      "100%|██████████| 4944/4944 [00:38<00:00, 127.49it/s]\n"
     ]
    }
   ],
   "source": [
    "for image_path in tqdm(train_images[:int(len(train_images)*0.01)]):\n",
    "    image_basename = os.path.basename(image_path)\n",
    "    name, ext = image_basename.split('.')\n",
    "\n",
    "    image = cv2.imread(image_path)\n",
    "    real_h, real_w, c = image.shape\n",
    "\n",
    "    bb_path = image_path.replace(name, f'{name}_BB').replace(ext, 'txt')\n",
    "    with open(bb_path) as f:\n",
    "        x, y, w, h, score = map(float, f.readline().split())\n",
    "\n",
    "    # Resize bounding box according to image shape\n",
    "    x1 = int(x*(real_w / 224))\n",
    "    y1 = int(y*(real_h / 224))\n",
    "    x2 = x1 + int(w*(real_w / 224))\n",
    "    y2 = y1 + int(h*(real_h / 224))\n",
    "\n",
    "    # Clip value of bouding \n",
    "    x1 = max(0, min(x1, real_w))\n",
    "    y1 = max(0, min(y1, real_h))\n",
    "    x2 = max(0, min(x2, real_w))\n",
    "    y2 = max(0, min(y2, real_h))\n",
    "\n",
    "    face = image[y1: y2, x1: x2]\n",
    "\n",
    "    new_path = image_path.replace('C:\\\\KhoiNXM\\\\Workspace\\\\Learning\\\\Master Thesis\\\\Dataset\\\\', \n",
    "                                  'C:\\\\KhoiNXM\\\\Workspace\\\\Learning\\\\Master Thesis\\\\Dev\\\\face_recognition_system\\\\data\\\\')\n",
    "    dir_path = os.path.dirname(new_path)\n",
    "    Path(dir_path).mkdir(parents=True, exist_ok=True)\n",
    "\n",
    "    try:\n",
    "        cv2.imwrite(new_path, face)\n",
    "    except Exception:\n",
    "        print(x1, y1, x2, y2)"
   ]
  },
  {
   "attachments": {},
   "cell_type": "markdown",
   "metadata": {},
   "source": [
    "# Combine datasets"
   ]
  },
  {
   "cell_type": "code",
   "execution_count": 10,
   "metadata": {},
   "outputs": [],
   "source": [
    "celeb_root = 'C:\\\\KhoiNXM\\\\Workspace\\\\Learning\\\\Master Thesis\\\\Dev\\\\face_recognition_system\\\\data\\\\CelebA_Spoof\\\\Data\\\\train'\n",
    "nua_root = 'C:\\\\KhoiNXM\\\\Workspace\\\\Learning\\\\Master Thesis\\\\Dataset\\\\Detectedface'"
   ]
  },
  {
   "cell_type": "code",
   "execution_count": 11,
   "metadata": {},
   "outputs": [
    {
     "data": {
      "text/plain": [
       "(1540, 3404)"
      ]
     },
     "execution_count": 11,
     "metadata": {},
     "output_type": "execute_result"
    }
   ],
   "source": [
    "r_celeb = glob(os.path.join(celeb_root, '*', 'live', '*.jpg'))\n",
    "f_celeb = glob(os.path.join(celeb_root, '*', 'spoof', '*.jpg'))\n",
    "len(r_celeb), len(f_celeb)"
   ]
  },
  {
   "cell_type": "code",
   "execution_count": 12,
   "metadata": {},
   "outputs": [
    {
     "data": {
      "text/plain": [
       "(5105, 7509)"
      ]
     },
     "execution_count": 12,
     "metadata": {},
     "output_type": "execute_result"
    }
   ],
   "source": [
    "r_nua = glob(os.path.join(nua_root, 'ClientFace', '*', '*.jpg'))\n",
    "f_nua = glob(os.path.join(nua_root, 'ImposterFace', '*', '*.jpg'))\n",
    "len(r_nua), len(f_nua)"
   ]
  },
  {
   "cell_type": "code",
   "execution_count": 13,
   "metadata": {},
   "outputs": [],
   "source": [
    "datasets_path = 'C:\\\\KhoiNXM\\\\Workspace\\\\Learning\\\\Master Thesis\\\\Dev\\\\face_recognition_system\\\\data\\\\DeePixBiS\\\\'"
   ]
  },
  {
   "cell_type": "code",
   "execution_count": 14,
   "metadata": {},
   "outputs": [],
   "source": [
    "Path(datasets_path + 'train\\\\0').mkdir(parents=True, exist_ok=True)\n",
    "Path(datasets_path + 'train\\\\1').mkdir(parents=True, exist_ok=True)\n",
    "Path(datasets_path + 'test\\\\0').mkdir(parents=True, exist_ok=True)\n",
    "Path(datasets_path + 'test\\\\1').mkdir(parents=True, exist_ok=True)\n",
    "Path(datasets_path + 'val\\\\0').mkdir(parents=True, exist_ok=True)\n",
    "Path(datasets_path + 'val\\\\1').mkdir(parents=True, exist_ok=True)"
   ]
  },
  {
   "cell_type": "raw",
   "metadata": {},
   "source": [
    "r_data = r_celeb + r_nua[:int(len(r_nua)*0.25)]\n",
    "f_data = f_celeb + f_nua[:int(len(f_nua)*0.25)]\n",
    "len(r_data), len(f_data)"
   ]
  },
  {
   "cell_type": "code",
   "execution_count": 15,
   "metadata": {},
   "outputs": [
    {
     "data": {
      "text/plain": [
       "(6645, 10913)"
      ]
     },
     "execution_count": 15,
     "metadata": {},
     "output_type": "execute_result"
    }
   ],
   "source": [
    "r_data = r_celeb + r_nua\n",
    "f_data = f_celeb + f_nua\n",
    "len(r_data), len(f_data)"
   ]
  },
  {
   "cell_type": "code",
   "execution_count": 16,
   "metadata": {},
   "outputs": [],
   "source": [
    "X_r, y_r = r_data, [1]*len(r_data)\n",
    "X_f, y_f = f_data, [0]*len(f_data)"
   ]
  },
  {
   "cell_type": "code",
   "execution_count": 17,
   "metadata": {},
   "outputs": [
    {
     "data": {
      "text/plain": [
       "(17558, 17558)"
      ]
     },
     "execution_count": 17,
     "metadata": {},
     "output_type": "execute_result"
    }
   ],
   "source": [
    "X = X_r + X_f\n",
    "y = y_r + y_f\n",
    "len(X), len(y)"
   ]
  },
  {
   "cell_type": "code",
   "execution_count": 18,
   "metadata": {},
   "outputs": [],
   "source": [
    "X_train, X_test, y_train, y_test = train_test_split(X, y, test_size=0.1, random_state=1)\n",
    "X_train, X_val, y_train, y_val = train_test_split(X_train, y_train, test_size=1/9, random_state=1)"
   ]
  },
  {
   "cell_type": "code",
   "execution_count": 19,
   "metadata": {},
   "outputs": [
    {
     "name": "stderr",
     "output_type": "stream",
     "text": [
      "14046it [00:16, 863.34it/s]\n",
      "1756it [00:02, 783.15it/s]\n",
      "1756it [00:02, 792.90it/s]\n"
     ]
    }
   ],
   "source": [
    "train_idx, val_idx, test_idx = 0, 0, 0\n",
    "\n",
    "for path, cls in tqdm(zip(X_train, y_train)):\n",
    "    ext = Path(path).suffix\n",
    "    dest = os.path.join(datasets_path, 'train', str(cls), str(train_idx) + ext)\n",
    "    shutil.copyfile(path, dest)\n",
    "    train_idx += 1\n",
    "\n",
    "for path, cls in tqdm(zip(X_val, y_val)):\n",
    "    ext = Path(path).suffix\n",
    "    dest = os.path.join(datasets_path, 'val', str(cls), str(val_idx) + ext)\n",
    "    shutil.copyfile(path, dest)\n",
    "    val_idx += 1\n",
    "\n",
    "for path, cls in tqdm(zip(X_test, y_test)):\n",
    "    ext = Path(path).suffix\n",
    "    dest = os.path.join(datasets_path, 'test', str(cls), str(test_idx) + ext)\n",
    "    shutil.copyfile(path, dest)\n",
    "    test_idx += 1"
   ]
  },
  {
   "cell_type": "code",
   "execution_count": 20,
   "metadata": {},
   "outputs": [],
   "source": [
    "train_list = []\n",
    "val_list = []\n",
    "test_list = []\n",
    "\n",
    "for file in os.listdir(datasets_path + 'train\\\\0'):\n",
    "    link = datasets_path + 'train\\\\0\\\\' + file\n",
    "    train_list.append([link, 0])\n",
    "\n",
    "for file in os.listdir(datasets_path + 'train\\\\1'):\n",
    "    link = datasets_path + 'train\\\\1\\\\' + file\n",
    "    train_list.append([link, 1])\n",
    "\n",
    "for file in os.listdir(datasets_path + 'val\\\\0'):\n",
    "    link = datasets_path + 'val\\\\0\\\\' + file\n",
    "    val_list.append([link, 0])\n",
    "\n",
    "for file in os.listdir(datasets_path + 'val\\\\1'):\n",
    "    link = datasets_path + 'val\\\\1\\\\' + file\n",
    "    val_list.append([link, 1])\n",
    "\n",
    "for file in os.listdir(datasets_path + 'test\\\\0'):\n",
    "    link = datasets_path + 'test\\\\0\\\\' + file\n",
    "    test_list.append([link, 0])\n",
    "\n",
    "for file in os.listdir(datasets_path + 'test\\\\1'):\n",
    "    link = datasets_path + 'test\\\\1\\\\' + file\n",
    "    test_list.append([link, 1])\n",
    "\n",
    "train_df = pd.DataFrame(train_list, columns=['name', 'label'])\n",
    "val_df = pd.DataFrame(val_list, columns=['name', 'label'])\n",
    "test_df = pd.DataFrame(test_list, columns=['name', 'label'])\n",
    "\n",
    "train_df.to_csv('C:\\\\KhoiNXM\\\\Workspace\\\\Learning\\\\Master Thesis\\\\Dev\\\\face_recognition_system\\\\data\\\\path_files\\\\train_data_celeb_nuaa.csv', index=False)\n",
    "val_df.to_csv('C:\\\\KhoiNXM\\\\Workspace\\\\Learning\\\\Master Thesis\\\\Dev\\\\face_recognition_system\\\\data\\\\path_files\\\\val_data_celeb_nuaa.csv', index=False)\n",
    "test_df.to_csv('C:\\\\KhoiNXM\\\\Workspace\\\\Learning\\\\Master Thesis\\\\Dev\\\\face_recognition_system\\\\data\\\\path_files\\\\test_data_celeb_nuaa.csv', index=False)"
   ]
  },
  {
   "cell_type": "code",
   "execution_count": 21,
   "metadata": {},
   "outputs": [],
   "source": [
    "# For Google Drive\n",
    "datasets_path = 'C:\\\\KhoiNXM\\\\Workspace\\\\Learning\\\\Master Thesis\\\\Dev\\\\face_recognition_system\\\\data\\\\DeePixBiS\\\\'\n",
    "datasets_path_drive = './data/DeePixBiS/'\n",
    "train_list = []\n",
    "val_list = []\n",
    "test_list = []\n",
    "\n",
    "for file in os.listdir(f'{datasets_path}train/0'):\n",
    "    link = f'{datasets_path_drive}train/0/{file}'\n",
    "    train_list.append([link, 0])\n",
    "\n",
    "for file in os.listdir(f'{datasets_path}train/1'):\n",
    "    link = f'{datasets_path_drive}train/1/{file}'\n",
    "    train_list.append([link, 1])\n",
    "\n",
    "for file in os.listdir(f'{datasets_path}val/0'):\n",
    "    link = f'{datasets_path_drive}val/0/{file}'\n",
    "    val_list.append([link, 0])\n",
    "\n",
    "for file in os.listdir(f'{datasets_path}val/1'):\n",
    "    link = f'{datasets_path_drive}val/1/{file}'\n",
    "    val_list.append([link, 1])\n",
    "\n",
    "for file in os.listdir(f'{datasets_path}test/0'):\n",
    "    link = f'{datasets_path_drive}test/0/{file}'\n",
    "    test_list.append([link, 0])\n",
    "\n",
    "for file in os.listdir(f'{datasets_path}test/1'):\n",
    "    link = f'{datasets_path_drive}test/1/{file}'\n",
    "    test_list.append([link, 1])\n",
    "\n",
    "train_df = pd.DataFrame(train_list, columns=['name', 'label'])\n",
    "val_df = pd.DataFrame(val_list, columns=['name', 'label'])\n",
    "test_df = pd.DataFrame(test_list, columns=['name', 'label'])\n",
    "\n",
    "train_df.to_csv('C:\\\\KhoiNXM\\\\Workspace\\\\Learning\\\\Master Thesis\\\\Dev\\\\face_recognition_system\\\\data\\\\path_files\\\\train_data_celeb_nuaa_drive.csv', index=False)\n",
    "val_df.to_csv('C:\\\\KhoiNXM\\\\Workspace\\\\Learning\\\\Master Thesis\\\\Dev\\\\face_recognition_system\\\\data\\\\path_files\\\\val_data_celeb_nuaa_drive.csv', index=False)\n",
    "test_df.to_csv('C:\\\\KhoiNXM\\\\Workspace\\\\Learning\\\\Master Thesis\\\\Dev\\\\face_recognition_system\\\\data\\\\path_files\\\\test_data_celeb_nuaa_drive.csv', index=False)"
   ]
  },
  {
   "cell_type": "code",
   "execution_count": null,
   "metadata": {},
   "outputs": [],
   "source": []
  }
 ],
 "metadata": {
  "kernelspec": {
   "display_name": "face_recognition_system",
   "language": "python",
   "name": "python3"
  },
  "language_info": {
   "codemirror_mode": {
    "name": "ipython",
    "version": 3
   },
   "file_extension": ".py",
   "mimetype": "text/x-python",
   "name": "python",
   "nbconvert_exporter": "python",
   "pygments_lexer": "ipython3",
   "version": "3.9.12"
  },
  "orig_nbformat": 4,
  "vscode": {
   "interpreter": {
    "hash": "e2b9d8e355d89e6612b110ab03e3987dce92c37600e380ef8505b30519cf4243"
   }
  }
 },
 "nbformat": 4,
 "nbformat_minor": 2
}
