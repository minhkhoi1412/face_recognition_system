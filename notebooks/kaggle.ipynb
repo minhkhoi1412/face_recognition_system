{
  "cells": [
    {
      "cell_type": "code",
      "execution_count": null,
      "metadata": {
        "_cell_guid": "b1076dfc-b9ad-4769-8c92-a6c4dae69d19",
        "_uuid": "8f2839f25d086af736a60e9eeb907d3b93b6e0e5",
        "collapsed": true,
        "execution": {
          "iopub.execute_input": "2023-02-13T07:15:18.767520Z",
          "iopub.status.busy": "2023-02-13T07:15:18.766739Z",
          "iopub.status.idle": "2023-02-13T07:15:24.203543Z",
          "shell.execute_reply": "2023-02-13T07:15:24.202507Z",
          "shell.execute_reply.started": "2023-02-13T07:15:18.767477Z"
        },
        "jupyter": {
          "outputs_hidden": true
        },
        "trusted": true
      },
      "outputs": [],
      "source": [
        "# This Python 3 environment comes with many helpful analytics libraries installed\n",
        "# It is defined by the kaggle/python Docker image: https://github.com/kaggle/docker-python\n",
        "# For example, here's several helpful packages to load\n",
        "\n",
        "import numpy as np # linear algebra\n",
        "import pandas as pd # data processing, CSV file I/O (e.g. pd.read_csv)\n",
        "\n",
        "# Input data files are available in the read-only \"../input/\" directory\n",
        "# For example, running this (by clicking run or pressing Shift+Enter) will list all files under the input directory\n",
        "\n",
        "import os\n",
        "for dirname, _, filenames in os.walk('/kaggle/input'):\n",
        "    for filename in filenames:\n",
        "        print(os.path.join(dirname, filename))\n",
        "\n",
        "# You can write up to 20GB to the current directory (/kaggle/working/) that gets preserved as output when you create a version using \"Save & Run All\" \n",
        "# You can also write temporary files to /kaggle/temp/, but they won't be saved outside of the current session"
      ]
    },
    {
      "cell_type": "code",
      "execution_count": null,
      "metadata": {
        "execution": {
          "iopub.execute_input": "2023-02-13T06:14:53.841850Z",
          "iopub.status.busy": "2023-02-13T06:14:53.841443Z",
          "iopub.status.idle": "2023-02-13T06:14:55.577686Z",
          "shell.execute_reply": "2023-02-13T06:14:55.576545Z",
          "shell.execute_reply.started": "2023-02-13T06:14:53.841807Z"
        },
        "trusted": true
      },
      "outputs": [],
      "source": [
        "!git clone https://github.com/minhkhoi1412/face_recognition_system.git"
      ]
    },
    {
      "cell_type": "code",
      "execution_count": null,
      "metadata": {
        "execution": {
          "iopub.execute_input": "2023-02-13T07:15:34.441534Z",
          "iopub.status.busy": "2023-02-13T07:15:34.441034Z",
          "iopub.status.idle": "2023-02-13T07:15:34.451597Z",
          "shell.execute_reply": "2023-02-13T07:15:34.450251Z",
          "shell.execute_reply.started": "2023-02-13T07:15:34.441485Z"
        },
        "trusted": true
      },
      "outputs": [],
      "source": [
        "os.chdir(\"/kaggle/working/face_recognition_system\")"
      ]
    },
    {
      "cell_type": "code",
      "execution_count": null,
      "metadata": {
        "execution": {
          "iopub.execute_input": "2023-02-13T07:15:41.173413Z",
          "iopub.status.busy": "2023-02-13T07:15:41.172672Z",
          "iopub.status.idle": "2023-02-13T07:15:41.199610Z",
          "shell.execute_reply": "2023-02-13T07:15:41.198450Z",
          "shell.execute_reply.started": "2023-02-13T07:15:41.173368Z"
        },
        "trusted": true
      },
      "outputs": [],
      "source": [
        "os.makedirs('./models')"
      ]
    },
    {
      "cell_type": "code",
      "execution_count": null,
      "metadata": {
        "execution": {
          "iopub.execute_input": "2023-02-13T07:16:17.044357Z",
          "iopub.status.busy": "2023-02-13T07:16:17.043946Z",
          "iopub.status.idle": "2023-02-13T07:16:18.024694Z",
          "shell.execute_reply": "2023-02-13T07:16:18.023255Z",
          "shell.execute_reply.started": "2023-02-13T07:16:17.044320Z"
        },
        "trusted": true
      },
      "outputs": [],
      "source": [
        "!pwd"
      ]
    },
    {
      "cell_type": "code",
      "execution_count": null,
      "metadata": {
        "execution": {
          "iopub.execute_input": "2023-02-13T07:16:18.470795Z",
          "iopub.status.busy": "2023-02-13T07:16:18.470345Z",
          "iopub.status.idle": "2023-02-13T07:16:19.546515Z",
          "shell.execute_reply": "2023-02-13T07:16:19.545348Z",
          "shell.execute_reply.started": "2023-02-13T07:16:18.470733Z"
        },
        "trusted": true
      },
      "outputs": [],
      "source": [
        "!ls -a"
      ]
    },
    {
      "cell_type": "code",
      "execution_count": null,
      "metadata": {
        "execution": {
          "iopub.execute_input": "2023-02-13T07:16:33.157848Z",
          "iopub.status.busy": "2023-02-13T07:16:33.157442Z",
          "iopub.status.idle": "2023-02-13T07:16:34.803961Z",
          "shell.execute_reply": "2023-02-13T07:16:34.802940Z",
          "shell.execute_reply.started": "2023-02-13T07:16:33.157813Z"
        },
        "trusted": true
      },
      "outputs": [],
      "source": [
        "import pandas as pd\n",
        "import torch\n",
        "import torch.nn as nn\n",
        "from torchvision.transforms import Compose, ToTensor, RandomHorizontalFlip, Normalize, Resize, RandomRotation\n",
        "import numpy as np\n",
        "from torch.utils.data import DataLoader\n",
        "from modules.deep_pixel_wise.Dataset_v2 import PixWiseDataset\n",
        "from modules.deep_pixel_wise.Model import DeePixBiS\n",
        "from modules.deep_pixel_wise.Loss import PixWiseBCELoss\n",
        "from modules.deep_pixel_wise.Metrics import predict, test_accuracy, test_loss\n",
        "from modules.deep_pixel_wise.Trainer import Trainer"
      ]
    },
    {
      "cell_type": "markdown",
      "metadata": {},
      "source": [
        "# Train"
      ]
    },
    {
      "cell_type": "code",
      "execution_count": null,
      "metadata": {
        "execution": {
          "iopub.execute_input": "2023-02-13T06:49:45.553728Z",
          "iopub.status.busy": "2023-02-13T06:49:45.553339Z",
          "iopub.status.idle": "2023-02-13T06:49:45.585947Z",
          "shell.execute_reply": "2023-02-13T06:49:45.585047Z",
          "shell.execute_reply.started": "2023-02-13T06:49:45.553698Z"
        },
        "trusted": true
      },
      "outputs": [],
      "source": [
        "train_data = pd.read_csv('/kaggle/input/face-anti-spoofing/train_data_celeb_nuaa_kaggle.csv').reset_index(drop=True)\n",
        "val_data = pd.read_csv('/kaggle/input/face-anti-spoofing/val_data_celeb_nuaa_kaggle.csv').reset_index(drop=True)"
      ]
    },
    {
      "cell_type": "code",
      "execution_count": null,
      "metadata": {
        "execution": {
          "iopub.execute_input": "2023-02-13T06:49:46.749639Z",
          "iopub.status.busy": "2023-02-13T06:49:46.749269Z",
          "iopub.status.idle": "2023-02-13T06:49:46.763384Z",
          "shell.execute_reply": "2023-02-13T06:49:46.762331Z",
          "shell.execute_reply.started": "2023-02-13T06:49:46.749606Z"
        },
        "trusted": true
      },
      "outputs": [],
      "source": [
        "train_data_shuffled = train_data.sample(frac=1).reset_index(drop=True)\n",
        "train_data_shuffled.head()"
      ]
    },
    {
      "cell_type": "code",
      "execution_count": null,
      "metadata": {
        "execution": {
          "iopub.execute_input": "2023-02-13T06:49:48.202671Z",
          "iopub.status.busy": "2023-02-13T06:49:48.202305Z",
          "iopub.status.idle": "2023-02-13T06:49:48.209576Z",
          "shell.execute_reply": "2023-02-13T06:49:48.208702Z",
          "shell.execute_reply.started": "2023-02-13T06:49:48.202640Z"
        },
        "trusted": true
      },
      "outputs": [],
      "source": [
        "train_data_shuffled.shape"
      ]
    },
    {
      "cell_type": "code",
      "execution_count": null,
      "metadata": {
        "execution": {
          "iopub.execute_input": "2023-02-13T06:33:55.790208Z",
          "iopub.status.busy": "2023-02-13T06:33:55.789687Z",
          "iopub.status.idle": "2023-02-13T06:33:55.879948Z",
          "shell.execute_reply": "2023-02-13T06:33:55.879054Z",
          "shell.execute_reply.started": "2023-02-13T06:33:55.790169Z"
        },
        "trusted": true
      },
      "outputs": [],
      "source": [
        "# Setting device on GPU if available, else CPU\n",
        "torch.cuda.empty_cache()\n",
        "torch.cuda.reset_peak_memory_stats()\n",
        "\n",
        "device = torch.device('cuda' if torch.cuda.is_available() else 'cpu')\n",
        "print('Using device:', device)\n",
        "print()\n",
        "\n",
        "# Additional Info when using cuda\n",
        "if device.type == 'cuda':\n",
        "    print(torch.cuda.get_device_name(0))\n",
        "    print('Memory Usage:')\n",
        "    print('Allocated: ', round(torch.cuda.memory_allocated(0)/1024**3,1), 'GB')\n",
        "    print('Cached: ', round(torch.cuda.memory_reserved(0)/1024**3,1), 'GB')\n",
        "    print('Max memory reserved: ', round(torch.cuda.max_memory_reserved(0)/1024**3,1), 'GB')"
      ]
    },
    {
      "cell_type": "code",
      "execution_count": null,
      "metadata": {
        "execution": {
          "iopub.execute_input": "2023-02-13T06:49:56.796097Z",
          "iopub.status.busy": "2023-02-13T06:49:56.795722Z",
          "iopub.status.idle": "2023-02-13T06:56:17.944001Z",
          "shell.execute_reply": "2023-02-13T06:56:17.942597Z",
          "shell.execute_reply.started": "2023-02-13T06:49:56.796067Z"
        },
        "trusted": true
      },
      "outputs": [],
      "source": [
        "model = DeePixBiS()\n",
        "# model.load_state_dict(torch.load('/content/drive/MyDrive/FPT MSE/Capstone Project/Anti_Spoof_DPW/DeePixBiS.pth'))\n",
        "loss_fn = PixWiseBCELoss()\n",
        "opt = torch.optim.Adam(model.parameters(), lr=0.0001)\n",
        "train_tfms = Compose([Resize([224, 224]),\n",
        "                      RandomHorizontalFlip(),\n",
        "                      RandomRotation(10),\n",
        "                      ToTensor(),\n",
        "                    #   Normalize([0.5, 0.5, 0.5], [0.5, 0.5, 0.5])])\n",
        "                      Normalize((0.485, 0.456, 0.406), (0.229, 0.224, 0.225))])\n",
        "\n",
        "test_tfms = Compose([Resize([224, 224]),\n",
        "                     ToTensor(),\n",
        "                    #  Normalize([0.5, 0.5, 0.5], [0.5, 0.5, 0.5])])\n",
        "                     Normalize((0.485, 0.456, 0.406), (0.229, 0.224, 0.225))])\n",
        "\n",
        "train_dataset = PixWiseDataset(train_data_shuffled, transform=train_tfms)\n",
        "train_ds = train_dataset.dataset()\n",
        "\n",
        "val_dataset = PixWiseDataset(val_data, transform=test_tfms)\n",
        "val_ds = val_dataset.dataset()\n",
        "\n",
        "batch_size = 8\n",
        "train_dl = DataLoader(train_ds, batch_size, shuffle=True, num_workers=0, pin_memory=True)\n",
        "val_dl = DataLoader(val_ds, batch_size, shuffle=True, num_workers=0, pin_memory=True)\n",
        "\n",
        "trainer = Trainer(train_dl, val_dl, model, 12, opt, loss_fn, device)\n",
        "\n",
        "print('Training Beginning\\n')\n",
        "trainer.fit()\n",
        "\n",
        "print('\\nTraining Complete')\n",
        "torch.save(model.state_dict(), './models/DeePixBiS/DeePixBiS_celeb_nuaa_130223.pth')"
      ]
    },
    {
      "cell_type": "code",
      "execution_count": null,
      "metadata": {
        "execution": {
          "iopub.execute_input": "2023-02-13T07:02:08.435518Z",
          "iopub.status.busy": "2023-02-13T07:02:08.434818Z",
          "iopub.status.idle": "2023-02-13T07:02:08.495420Z",
          "shell.execute_reply": "2023-02-13T07:02:08.494460Z",
          "shell.execute_reply.started": "2023-02-13T07:02:08.435482Z"
        },
        "trusted": true
      },
      "outputs": [],
      "source": [
        "torch.save(model.state_dict(), './models/DeePixBiS_celeb_nuaa_130223.pth')"
      ]
    },
    {
      "cell_type": "markdown",
      "metadata": {},
      "source": [
        "# Test"
      ]
    },
    {
      "cell_type": "code",
      "execution_count": null,
      "metadata": {
        "execution": {
          "iopub.execute_input": "2023-02-13T07:16:38.984333Z",
          "iopub.status.busy": "2023-02-13T07:16:38.982814Z",
          "iopub.status.idle": "2023-02-13T07:16:39.073384Z",
          "shell.execute_reply": "2023-02-13T07:16:39.071852Z",
          "shell.execute_reply.started": "2023-02-13T07:16:38.984284Z"
        },
        "trusted": true
      },
      "outputs": [],
      "source": [
        "# Setting device on GPU if available, else CPU\n",
        "torch.cuda.empty_cache()\n",
        "torch.cuda.reset_peak_memory_stats()\n",
        "\n",
        "device = torch.device('cuda' if torch.cuda.is_available() else 'cpu')\n",
        "print('Using device:', device)\n",
        "print()\n",
        "\n",
        "# Additional Info when using cuda\n",
        "if device.type == 'cuda':\n",
        "    print(torch.cuda.get_device_name(0))\n",
        "    print('Memory Usage:')\n",
        "    print('Allocated: ', round(torch.cuda.memory_allocated(0)/1024**3,1), 'GB')\n",
        "    print('Cached: ', round(torch.cuda.memory_reserved(0)/1024**3,1), 'GB')\n",
        "    print('Max memory reserved: ', round(torch.cuda.max_memory_reserved(0)/1024**3,1), 'GB')"
      ]
    },
    {
      "cell_type": "code",
      "execution_count": null,
      "metadata": {
        "execution": {
          "iopub.execute_input": "2023-02-13T07:17:26.373417Z",
          "iopub.status.busy": "2023-02-13T07:17:26.372990Z",
          "iopub.status.idle": "2023-02-13T07:17:26.390102Z",
          "shell.execute_reply": "2023-02-13T07:17:26.389127Z",
          "shell.execute_reply.started": "2023-02-13T07:17:26.373381Z"
        },
        "trusted": true
      },
      "outputs": [],
      "source": [
        "test_data = pd.read_csv('/kaggle/input/face-anti-spoofing/test_data_celeb_nuaa_kaggle.csv').reset_index(drop=True)"
      ]
    },
    {
      "cell_type": "code",
      "execution_count": null,
      "metadata": {
        "execution": {
          "iopub.execute_input": "2023-02-13T07:18:27.586447Z",
          "iopub.status.busy": "2023-02-13T07:18:27.585280Z",
          "iopub.status.idle": "2023-02-13T07:18:37.579371Z",
          "shell.execute_reply": "2023-02-13T07:18:37.578287Z",
          "shell.execute_reply.started": "2023-02-13T07:18:27.586381Z"
        },
        "trusted": true
      },
      "outputs": [],
      "source": [
        "test_model = DeePixBiS()\n",
        "test_model.load_state_dict(torch.load('./models/DeePixBiS_celeb_nuaa_130223.pth'))\n",
        "test_model = test_model.to(device)\n",
        "\n",
        "loss_fn = PixWiseBCELoss()\n",
        "\n",
        "test_tfms = Compose([Resize([224, 224]),\n",
        "                     ToTensor(),\n",
        "                    #  Normalize([0.5, 0.5, 0.5], [0.5, 0.5, 0.5])])\n",
        "                     Normalize((0.485, 0.456, 0.406), (0.229, 0.224, 0.225))])\n",
        "\n",
        "test_dataset = PixWiseDataset(test_data, transform=test_tfms)\n",
        "test_ds = test_dataset.dataset()\n",
        "\n",
        "batch_size = 8\n",
        "test_dl = DataLoader(test_ds, batch_size, shuffle=True, num_workers=0, pin_memory=True)\n",
        "\n",
        "test_acc = test_accuracy(test_model, test_dl, device)\n",
        "test_los = test_loss(test_model, test_dl, loss_fn, device)\n",
        "\n",
        "print(test_acc, test_los)"
      ]
    },
    {
      "cell_type": "code",
      "execution_count": null,
      "metadata": {},
      "outputs": [],
      "source": []
    }
  ],
  "metadata": {
    "kernelspec": {
      "display_name": "face_recognition_system",
      "language": "python",
      "name": "python3"
    },
    "language_info": {
      "codemirror_mode": {
        "name": "ipython",
        "version": 3
      },
      "file_extension": ".py",
      "mimetype": "text/x-python",
      "name": "python",
      "nbconvert_exporter": "python",
      "pygments_lexer": "ipython3",
      "version": "3.9.12"
    },
    "vscode": {
      "interpreter": {
        "hash": "e2b9d8e355d89e6612b110ab03e3987dce92c37600e380ef8505b30519cf4243"
      }
    }
  },
  "nbformat": 4,
  "nbformat_minor": 4
}
